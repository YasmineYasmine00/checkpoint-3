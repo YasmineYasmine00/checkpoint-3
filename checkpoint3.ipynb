{
  "nbformat": 4,
  "nbformat_minor": 0,
  "metadata": {
    "colab": {
      "name": "checkpoint3",
      "provenance": []
    },
    "kernelspec": {
      "name": "python3",
      "display_name": "Python 3"
    },
    "language_info": {
      "name": "python"
    }
  },
  "cells": [
    {
      "cell_type": "code",
      "source": [
        "l = [2,4,5]\n",
        "s=1\n",
        "for i in l:\n",
        "     s=s*i\n",
        "s\n",
        "       "
      ],
      "metadata": {
        "colab": {
          "base_uri": "https://localhost:8080/"
        },
        "id": "liYqjOrdsHXT",
        "outputId": "38ecdaae-1bcc-403f-bcbc-8bbdc12b3779"
      },
      "execution_count": null,
      "outputs": [
        {
          "output_type": "execute_result",
          "data": {
            "text/plain": [
              "40"
            ]
          },
          "metadata": {},
          "execution_count": 21
        }
      ]
    },
    {
      "cell_type": "code",
      "source": [
        "l= [(2,5),(1,2),(4,4),(2,3),(2,1)]\n",
        "l.sort(key = lambda x:x[-1])\n",
        "l"
      ],
      "metadata": {
        "colab": {
          "base_uri": "https://localhost:8080/"
        },
        "id": "iD7-UADwua2k",
        "outputId": "b95bc146-3815-40c6-b579-c6f1d5365769"
      },
      "execution_count": null,
      "outputs": [
        {
          "output_type": "execute_result",
          "data": {
            "text/plain": [
              "[(2, 1), (1, 2), (2, 3), (4, 4), (2, 5)]"
            ]
          },
          "metadata": {},
          "execution_count": 23
        }
      ]
    },
    {
      "cell_type": "code",
      "source": [
        "l= [(2,5),(1,2),(4,4),(2,3),(2,1)]\n",
        "for i in range (0,len(l)):\n",
        "  for j in range (0,len(l)-i-1):\n",
        "    if l[j][-1]l[j+1]\n",
        "    l[j+1]=temp\n",
        "l    \n"
      ],
      "metadata": {
        "id": "YJvpd8-3vgj5"
      },
      "execution_count": null,
      "outputs": []
    },
    {
      "cell_type": "code",
      "source": [
        "d1={\"a\":100,\"b\":200,\"c\":300}\n",
        "d2={\"a\":300,\"b\":200,\"d\":400}\n",
        "d={}\n",
        "for k in d1.keys():\n",
        "  d[k]=d1[k]+d2.get (k,0)\n",
        "for k in d2.keys():\n",
        "  d[k]=d2[k] + d1.get(k,0)\n",
        "d"
      ],
      "metadata": {
        "colab": {
          "base_uri": "https://localhost:8080/"
        },
        "id": "uUXGpQOf1M95",
        "outputId": "a5024d42-e72b-4c43-cdef-75b172332085"
      },
      "execution_count": null,
      "outputs": [
        {
          "output_type": "execute_result",
          "data": {
            "text/plain": [
              "{'a': 400, 'b': 400, 'c': 300, 'd': 400}"
            ]
          },
          "metadata": {},
          "execution_count": 25
        }
      ]
    },
    {
      "cell_type": "code",
      "source": [
        "n = int(input(\"entrer un nombre :\"))\n",
        "d = {}\n",
        "for i in range (1,n+1):\n",
        "   d[i]=i*i\n",
        "d\n"
      ],
      "metadata": {
        "colab": {
          "base_uri": "https://localhost:8080/"
        },
        "id": "pdVf0B3aPuLI",
        "outputId": "2069bcfe-7ed4-4698-a299-fc1d5de78937"
      },
      "execution_count": 4,
      "outputs": [
        {
          "name": "stdout",
          "output_type": "stream",
          "text": [
            "entrer un nombre :6\n"
          ]
        },
        {
          "output_type": "execute_result",
          "data": {
            "text/plain": [
              "{1: 1, 2: 4, 3: 9, 4: 16, 5: 25, 6: 36}"
            ]
          },
          "metadata": {},
          "execution_count": 4
        }
      ]
    },
    {
      "cell_type": "code",
      "source": [
        "l = [(\"item1\",\"12,20\")(\"item2\",\"15,10\")(\"item3\",\"24,5\")]\n",
        "\n"
      ],
      "metadata": {
        "id": "sNsv-YE432uI"
      },
      "execution_count": null,
      "outputs": []
    },
    {
      "cell_type": "code",
      "source": [
        "somme(x,y):\n"
      ],
      "metadata": {
        "id": "R-YXhwj8SwFI"
      },
      "execution_count": null,
      "outputs": []
    }
  ]
}